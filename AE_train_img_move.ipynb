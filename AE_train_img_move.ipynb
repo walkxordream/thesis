{
 "cells": [
  {
   "cell_type": "code",
   "execution_count": 1,
   "metadata": {},
   "outputs": [],
   "source": [
    "import os\n",
    "import glob\n",
    "import random\n",
    "import shutil"
   ]
  },
  {
   "cell_type": "code",
   "execution_count": 2,
   "metadata": {},
   "outputs": [],
   "source": [
    "# シードを固定する関数\n",
    "def set_seed(seed):\n",
    "    random.seed(seed)\n",
    "# シードを固定\n",
    "set_seed(42)"
   ]
  },
  {
   "cell_type": "code",
   "execution_count": 3,
   "metadata": {},
   "outputs": [],
   "source": [
    "def copy_random_images(src_dir, dest_dir, num_images):\n",
    "    # すべてのサブフォルダを取得\n",
    "    subdirs = [d for d in glob.glob(os.path.join(src_dir, '*')) if os.path.isdir(d)]\n",
    "    for subdir in subdirs:\n",
    "        # サブフォルダ名を取得\n",
    "        subdir_name = os.path.basename(subdir)\n",
    "        # すべての画像ファイルを取得\n",
    "        image_files = glob.glob(os.path.join(subdir, '*.jpg'))\n",
    "        # ランダムに選択\n",
    "        selected_files = random.sample(image_files, min(num_images, len(image_files)))\n",
    "        # コピー先のサブフォルダを作成\n",
    "        dest_subdir = os.path.join(dest_dir, subdir_name)\n",
    "        os.makedirs(dest_subdir, exist_ok=True)\n",
    "        # 画像をコピー\n",
    "        for file in selected_files:\n",
    "            shutil.copy(file, dest_subdir)\n",
    "\n",
    "def create_mixed_dataset(src_base_dir, dest_base_dir, *args):\n",
    "    for arg in args:\n",
    "        if isinstance(arg, int):\n",
    "            # 単一の数値の場合\n",
    "            parent_dir = os.path.join(dest_base_dir, f'train_img_{arg}')\n",
    "            dest_dir = os.path.join(parent_dir, str(arg))\n",
    "            copy_random_images(src_base_dir, dest_dir, arg)\n",
    "        elif isinstance(arg, tuple):\n",
    "            # 複数の数値の場合\n",
    "            parent_dir = os.path.join(dest_base_dir, f'train_img_{\"_\".join(map(str, arg))}')\n",
    "            for num_images in arg:\n",
    "                dest_dir = os.path.join(parent_dir, str(num_images))\n",
    "                copy_random_images(src_base_dir, dest_dir, num_images)"
   ]
  },
  {
   "cell_type": "code",
   "execution_count": 4,
   "metadata": {},
   "outputs": [],
   "source": [
    "src_base_dir = 'imgs/update_train_imgs_remove/train_img_6048/6048'\n",
    "dest_base_dir = 'imgs/update_train_imgs_remove_mix'\n",
    "\n",
    "\n",
    "create_mixed_dataset(src_base_dir, dest_base_dir, 100)\n",
    "\n",
    "create_mixed_dataset(src_base_dir, dest_base_dir, 1000)\n",
    "\n",
    "create_mixed_dataset(src_base_dir, dest_base_dir, (2000, 3000))\n",
    "\n",
    "create_mixed_dataset(src_base_dir, dest_base_dir, (4000, 5000))"
   ]
  },
  {
   "cell_type": "code",
   "execution_count": 5,
   "metadata": {},
   "outputs": [],
   "source": [
    "src_base_dir = 'imgs/update_train_imgs_default/train_img_6048/6048'\n",
    "dest_base_dir = 'imgs/update_train_imgs_default_mix'\n",
    "\n",
    "\n",
    "create_mixed_dataset(src_base_dir, dest_base_dir, 100)\n",
    "\n",
    "create_mixed_dataset(src_base_dir, dest_base_dir, 1000)\n",
    "\n",
    "create_mixed_dataset(src_base_dir, dest_base_dir, (2000, 3000))\n",
    "\n",
    "create_mixed_dataset(src_base_dir, dest_base_dir, (4000, 5000))"
   ]
  }
 ],
 "metadata": {
  "kernelspec": {
   "display_name": ".env",
   "language": "python",
   "name": "python3"
  },
  "language_info": {
   "codemirror_mode": {
    "name": "ipython",
    "version": 3
   },
   "file_extension": ".py",
   "mimetype": "text/x-python",
   "name": "python",
   "nbconvert_exporter": "python",
   "pygments_lexer": "ipython3",
   "version": "3.10.12"
  }
 },
 "nbformat": 4,
 "nbformat_minor": 2
}
