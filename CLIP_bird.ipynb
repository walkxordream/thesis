{
 "cells": [
  {
   "cell_type": "code",
   "execution_count": 1,
   "metadata": {},
   "outputs": [
    {
     "name": "stderr",
     "output_type": "stream",
     "text": [
      "/home/waki-lab/Desktop/chiba_git/thesis/.env/lib/python3.10/site-packages/tqdm/auto.py:21: TqdmWarning: IProgress not found. Please update jupyter and ipywidgets. See https://ipywidgets.readthedocs.io/en/stable/user_install.html\n",
      "  from .autonotebook import tqdm as notebook_tqdm\n"
     ]
    }
   ],
   "source": [
    "import torch\n",
    "import open_clip\n",
    "from open_clip import tokenizer\n",
    "from deep_translator import GoogleTranslator\n",
    "from collections import defaultdict\n",
    "import os\n",
    "import shutil\n",
    "import random\n",
    "from PIL import Image,ImageOps\n",
    "import matplotlib.pyplot as plt\n",
    "import numpy as np"
   ]
  },
  {
   "cell_type": "code",
   "execution_count": 2,
   "metadata": {},
   "outputs": [],
   "source": [
    "# シードの固定\n",
    "seed = 42\n",
    "random.seed(seed)\n",
    "np.random.seed(seed)\n",
    "torch.manual_seed(seed)\n",
    "if torch.cuda.is_available():\n",
    "    torch.cuda.manual_seed(seed)\n",
    "    torch.cuda.manual_seed_all(seed)\n",
    "    torch.backends.cudnn.deterministic = True\n",
    "    torch.backends.cudnn.benchmark = False"
   ]
  },
  {
   "cell_type": "code",
   "execution_count": 3,
   "metadata": {},
   "outputs": [],
   "source": [
    "device = 'cuda' if torch.cuda.is_available() else 'cpu'"
   ]
  },
  {
   "cell_type": "code",
   "execution_count": 4,
   "metadata": {},
   "outputs": [
    {
     "name": "stderr",
     "output_type": "stream",
     "text": [
      "/home/waki-lab/Desktop/chiba_git/thesis/.env/lib/python3.10/site-packages/open_clip/factory.py:372: UserWarning: These pretrained weights were trained with QuickGELU activation but the model config does not have that enabled. Consider using a model config with a \"-quickgelu\" suffix or enable with a flag.\n",
      "  warnings.warn(\n"
     ]
    }
   ],
   "source": [
    "# RN50x64\n",
    "high_model, _, high_preprocess = open_clip.create_model_and_transforms('RN50x64', pretrained='openai')\n",
    "high_model.eval()\n",
    "high_model = high_model.to(device)"
   ]
  },
  {
   "cell_type": "code",
   "execution_count": 5,
   "metadata": {},
   "outputs": [
    {
     "name": "stdout",
     "output_type": "stream",
     "text": [
      "{'YES_bird': 'Dead birds are lying around', 'NO_bird': 'There are no dead birds lying around', 'NO_bird2': 'An object has fallen, not a dead bird', 'NO_bird3': 'Nothing has fallen'}\n"
     ]
    }
   ],
   "source": [
    "# DeeplTranslatorのインスタンスを作成\n",
    "translator = GoogleTranslator(source='ja', target='en')\n",
    "\n",
    "# 辞書の定義\n",
    "descriptions = {\"YES_bird\":\"鳥の死骸が落ちている\",\n",
    "                \"NO_bird\":\"鳥の死骸が落ちていない\",\n",
    "                \"NO_bird2\":\"鳥の死骸ではなく物体が落ちている\",\n",
    "                \"NO_bird3\":\"何も落ちていない\"\n",
    "                }\n",
    "\n",
    "descriptions = {translator.translate(key): translator.translate(value) for key, value in descriptions.items()}\n",
    "\n",
    "# 翻訳した辞書を表示\n",
    "print(descriptions)"
   ]
  },
  {
   "cell_type": "code",
   "execution_count": 6,
   "metadata": {},
   "outputs": [
    {
     "name": "stdout",
     "output_type": "stream",
     "text": [
      "bird.jpg は YES_bird に含まれています。\n",
      "合計で 11 枚が YES_bird に含まれていました。\n"
     ]
    }
   ],
   "source": [
    "# テキストのエンコーディング\n",
    "text_inputs = torch.cat([open_clip.tokenize(descriptions[key]) for key in descriptions]).to(device)\n",
    "\n",
    "# 画像フォルダのパス\n",
    "image_folder = 'imgs/test_objects_bird'\n",
    "\n",
    "# 画像の分類\n",
    "yes_bird_count = 0\n",
    "\n",
    "for image_name in os.listdir(image_folder):\n",
    "    image_path = os.path.join(image_folder, image_name)\n",
    "    image = Image.open(image_path).convert(\"RGB\")\n",
    "    image_input = high_preprocess(image).unsqueeze(0).to(device)\n",
    "\n",
    "    with torch.no_grad():\n",
    "        image_features = high_model.encode_image(image_input)\n",
    "        text_features = high_model.encode_text(text_inputs)\n",
    "\n",
    "    # 類似度の計算\n",
    "    image_features /= image_features.norm(dim=-1, keepdim=True)\n",
    "    text_features /= text_features.norm(dim=-1, keepdim=True)\n",
    "    similarity = (image_features @ text_features.T).squeeze(0)\n",
    "\n",
    "    # 最も類似度が高いテキストを選択\n",
    "    predicted_label = similarity.argmax().item()\n",
    "    predicted_description = list(descriptions.keys())[predicted_label]\n",
    "\n",
    "    # YES_bird に含まれているかどうかの判定\n",
    "    if predicted_description == \"YES_bird\":\n",
    "        yes_bird_count += 1\n",
    "        if image_name == 'bird.jpg':\n",
    "            print(f\"{image_name} は YES_bird に含まれています。\")\n",
    "\n",
    "print(f\"合計で {yes_bird_count} 枚が YES_bird に含まれていました。\")"
   ]
  }
 ],
 "metadata": {
  "kernelspec": {
   "display_name": ".env",
   "language": "python",
   "name": "python3"
  },
  "language_info": {
   "codemirror_mode": {
    "name": "ipython",
    "version": 3
   },
   "file_extension": ".py",
   "mimetype": "text/x-python",
   "name": "python",
   "nbconvert_exporter": "python",
   "pygments_lexer": "ipython3",
   "version": "3.10.12"
  }
 },
 "nbformat": 4,
 "nbformat_minor": 2
}
